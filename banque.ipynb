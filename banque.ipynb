{
 "cells": [
  {
   "cell_type": "code",
   "execution_count": 39,
   "id": "f9748705",
   "metadata": {},
   "outputs": [],
   "source": [
    "import numpy as np\n",
    "import pandas as pd"
   ]
  },
  {
   "cell_type": "code",
   "execution_count": 41,
   "id": "1bde8aa6",
   "metadata": {},
   "outputs": [],
   "source": [
    "data = pd.read_csv(\"Dataset.csv\", sep=\";\", na_values=\"Unknown\")"
   ]
  },
  {
   "cell_type": "code",
   "execution_count": 42,
   "id": "091663f4",
   "metadata": {},
   "outputs": [],
   "source": [
    "df = data.copy()"
   ]
  },
  {
   "cell_type": "code",
   "execution_count": 43,
   "id": "1558d05c",
   "metadata": {},
   "outputs": [],
   "source": [
    "df.drop('CLIENTNUM', 1, inplace=True)"
   ]
  },
  {
   "cell_type": "code",
   "execution_count": 44,
   "id": "6dedf00c",
   "metadata": {},
   "outputs": [
    {
     "data": {
      "text/plain": [
       "Existing Customer    83.934038\n",
       "Attrited Customer    16.065962\n",
       "Name: Attrition_Flag, dtype: float64"
      ]
     },
     "execution_count": 44,
     "metadata": {},
     "output_type": "execute_result"
    }
   ],
   "source": [
    "df[\"Attrition_Flag\"].value_counts(normalize=True)*100"
   ]
  },
  {
   "cell_type": "markdown",
   "id": "3ea4b9a4",
   "metadata": {},
   "source": [
    "Nous avons deux modalités pour la variable cible `Attrition_Flag`\n",
    "\n",
    "- **Existing Customer**: 0\n",
    "- **Attrited Customer**: 1\n",
    "\n",
    "***On remarque une forte inegalité entre les proportions des modalités***"
   ]
  },
  {
   "cell_type": "markdown",
   "id": "26a0c303",
   "metadata": {},
   "source": [
    "### Pourcentage de données manquantes par variable"
   ]
  },
  {
   "cell_type": "code",
   "execution_count": 45,
   "id": "9c7891ef",
   "metadata": {},
   "outputs": [
    {
     "data": {
      "text/plain": [
       "Attrition_Flag               0.000000\n",
       "Customer_Age                 0.000000\n",
       "Gender                       0.000000\n",
       "Dependent_count              0.000000\n",
       "Education_Level             14.999506\n",
       "Marital_Status               7.396070\n",
       "Income_Category             10.980547\n",
       "Card_Category                0.000000\n",
       "Months_on_book               0.000000\n",
       "Total_Relationship_Count     0.000000\n",
       "Months_Inactive_12_mon       0.000000\n",
       "Contacts_Count_12_mon        0.000000\n",
       "Credit_Limit                 0.000000\n",
       "Total_Revolving_Bal          0.000000\n",
       "Avg_Open_To_Buy              0.000000\n",
       "Total_Amt_Chng_Q4_Q1         0.000000\n",
       "Total_Trans_Amt              0.000000\n",
       "Total_Trans_Ct               0.000000\n",
       "Total_Ct_Chng_Q4_Q1          0.000000\n",
       "Avg_Utilization_Ratio        0.000000\n",
       "dtype: float64"
      ]
     },
     "execution_count": 45,
     "metadata": {},
     "output_type": "execute_result"
    }
   ],
   "source": [
    "(df.isna().sum()/df.shape[0])*100"
   ]
  },
  {
   "cell_type": "markdown",
   "id": "cc1cfa63",
   "metadata": {},
   "source": [
    "Il n'y a pas de valeur manquante dans les variables quantitatives.\n",
    "\n",
    "Seule trois variables possèdent des donnés manquante dont le pourcentage est inférieur à 15%"
   ]
  },
  {
   "cell_type": "code",
   "execution_count": 46,
   "id": "f17121da",
   "metadata": {},
   "outputs": [
    {
     "name": "stdout",
     "output_type": "stream",
     "text": [
      "Ligne du dataframe: 10127\n",
      "Nombre de ligne manquante: 3046 \n",
      "Ratio de ligne manquante: 30.07800928211711\n"
     ]
    }
   ],
   "source": [
    "df_line = df.shape\n",
    "# Récupperer le nombre de lignes manquantes\n",
    "index_with_nan = df.index[df.isnull().any(axis=1)]\n",
    "nbr_df_nan = len(np.array(index_with_nan).reshape(-1, 1))\n",
    "print(f\"Ligne du dataframe: {df_line[0]}\")\n",
    "print(f\"Nombre de ligne manquante: {nbr_df_nan} \\nRatio de ligne manquante: {(nbr_df_nan/df_line[0])*100}\")"
   ]
  },
  {
   "cell_type": "code",
   "execution_count": 47,
   "id": "91a3eb30",
   "metadata": {},
   "outputs": [
    {
     "data": {
      "text/plain": [
       "7081"
      ]
     },
     "execution_count": 47,
     "metadata": {},
     "output_type": "execute_result"
    }
   ],
   "source": [
    "# Suppresion des données manquantes\n",
    "df.drop(index_with_nan, 0, inplace=True)\n",
    "df.shape[0]"
   ]
  },
  {
   "cell_type": "code",
   "execution_count": 48,
   "id": "fb59733e",
   "metadata": {},
   "outputs": [
    {
     "data": {
      "text/plain": [
       "Attrition_Flag              0.0\n",
       "Customer_Age                0.0\n",
       "Gender                      0.0\n",
       "Dependent_count             0.0\n",
       "Education_Level             0.0\n",
       "Marital_Status              0.0\n",
       "Income_Category             0.0\n",
       "Card_Category               0.0\n",
       "Months_on_book              0.0\n",
       "Total_Relationship_Count    0.0\n",
       "Months_Inactive_12_mon      0.0\n",
       "Contacts_Count_12_mon       0.0\n",
       "Credit_Limit                0.0\n",
       "Total_Revolving_Bal         0.0\n",
       "Avg_Open_To_Buy             0.0\n",
       "Total_Amt_Chng_Q4_Q1        0.0\n",
       "Total_Trans_Amt             0.0\n",
       "Total_Trans_Ct              0.0\n",
       "Total_Ct_Chng_Q4_Q1         0.0\n",
       "Avg_Utilization_Ratio       0.0\n",
       "dtype: float64"
      ]
     },
     "execution_count": 48,
     "metadata": {},
     "output_type": "execute_result"
    }
   ],
   "source": [
    "(df.isna().sum()/df.shape[0])*100"
   ]
  },
  {
   "cell_type": "markdown",
   "id": "ac0691d7",
   "metadata": {},
   "source": [
    "Il n' y a plus de données manquantes Dataset"
   ]
  },
  {
   "cell_type": "markdown",
   "id": "45f442b2",
   "metadata": {},
   "source": [
    "# Prétraitement\n",
    "### Donnée entraînement et de test"
   ]
  },
  {
   "cell_type": "code",
   "execution_count": 49,
   "id": "3ed008e0",
   "metadata": {},
   "outputs": [],
   "source": [
    "from sklearn.model_selection import train_test_split"
   ]
  },
  {
   "cell_type": "code",
   "execution_count": 50,
   "id": "4d7b27b0",
   "metadata": {},
   "outputs": [],
   "source": [
    "trainset, testset = train_test_split(df, test_size=0.25, random_state=0, stratify=df['Attrition_Flag'])"
   ]
  },
  {
   "cell_type": "code",
   "execution_count": 81,
   "id": "c9351151",
   "metadata": {},
   "outputs": [
    {
     "name": "stdout",
     "output_type": "stream",
     "text": [
      "Donnée d'entrainement:\n",
      "Existing Customer    0.84275\n",
      "Attrited Customer    0.15725\n",
      "Name: Attrition_Flag, dtype: float64\n",
      "\n",
      "\n",
      "Donnée de test:\n",
      "Existing Customer    0.843027\n",
      "Attrited Customer    0.156973\n",
      "Name: Attrition_Flag, dtype: float64\n"
     ]
    }
   ],
   "source": [
    "# On fait une découpe en respectant la repartition des données\n",
    "train = trainset['Attrition_Flag'].value_counts(normalize=True)\n",
    "test = testset['Attrition_Flag'].value_counts(normalize=True)\n",
    "print(f\"Donnée d'entrainement:\\n{train}\\n\\n\")\n",
    "print(f\"Donnée de test:\\n{test}\")"
   ]
  },
  {
   "cell_type": "markdown",
   "id": "07079649",
   "metadata": {},
   "source": [
    "### Encodage des variable qualitatives ordinales"
   ]
  },
  {
   "cell_type": "code",
   "execution_count": 52,
   "id": "890746f5",
   "metadata": {},
   "outputs": [],
   "source": [
    "\n",
    "def encode_features_ordinal(dataframe):\n",
    "    '''\n",
    "    Fonction permetant d'encoder des variables qualitatives ordinales\n",
    "    :param dataframe: Fournir un dataframe\n",
    "    :param variable: Fournir la liste de variable\n",
    "    '''\n",
    "    features_ordinals = ['Education_Level', 'Income_Category', 'Card_Category']\n",
    "    modalite = {\n",
    "    'Uneducated': 0,\n",
    "    'College': 1,\n",
    "    'High School': 2,\n",
    "    'Graduate': 3,\n",
    "    'Post-Graduate': 4,\n",
    "    'Doctorate': 5,\n",
    "    'Less than $40K': 0,\n",
    "    '$40K - $60K': 1,\n",
    "    '$60K - $80K': 2,\n",
    "    '$80K - $120K': 3,\n",
    "    '$120K +': 4,\n",
    "    'Blue': 0,\n",
    "    'Silver': 1,\n",
    "    'Gold': 2,\n",
    "    'Platinum': 3\n",
    "    }\n",
    "    for col in features_ordinals:\n",
    "        if dataframe[col].dtype == object:\n",
    "            dataframe.loc[:,col] = dataframe[col].map(modalite)\n",
    "    \n",
    "    return dataframe"
   ]
  },
  {
   "cell_type": "code",
   "execution_count": 53,
   "id": "f53d7746",
   "metadata": {},
   "outputs": [
    {
     "data": {
      "text/plain": [
       "Attrition_Flag              0.0\n",
       "Customer_Age                0.0\n",
       "Gender                      0.0\n",
       "Dependent_count             0.0\n",
       "Education_Level             0.0\n",
       "Marital_Status              0.0\n",
       "Income_Category             0.0\n",
       "Card_Category               0.0\n",
       "Months_on_book              0.0\n",
       "Total_Relationship_Count    0.0\n",
       "Months_Inactive_12_mon      0.0\n",
       "Contacts_Count_12_mon       0.0\n",
       "Credit_Limit                0.0\n",
       "Total_Revolving_Bal         0.0\n",
       "Avg_Open_To_Buy             0.0\n",
       "Total_Amt_Chng_Q4_Q1        0.0\n",
       "Total_Trans_Amt             0.0\n",
       "Total_Trans_Ct              0.0\n",
       "Total_Ct_Chng_Q4_Q1         0.0\n",
       "Avg_Utilization_Ratio       0.0\n",
       "dtype: float64"
      ]
     },
     "execution_count": 53,
     "metadata": {},
     "output_type": "execute_result"
    }
   ],
   "source": [
    "(df.isna().sum()/df.shape[0])*100"
   ]
  },
  {
   "cell_type": "markdown",
   "id": "029fa376",
   "metadata": {},
   "source": [
    "### Encodage des variable qualitatives nominales"
   ]
  },
  {
   "cell_type": "code",
   "execution_count": 54,
   "id": "47c3159f",
   "metadata": {},
   "outputs": [],
   "source": [
    "def encodin_nominale(datframe):\n",
    "    \"\"\"\n",
    "    Fonction permetant de faire l'encodage des varibles qualitative nominale \n",
    "    en supprimant la variable dependante\n",
    "    \"\"\"\n",
    "    features_nominals = ['Marital_Status', 'Gender']\n",
    "    \n",
    "    for var in features_nominals:\n",
    "        if datframe[var].dtypes == 'object':\n",
    "            modalite = datframe[var].unique()\n",
    "            for index, mod in enumerate(modalite):\n",
    "                if index == 0:\n",
    "                    continue\n",
    "                datframe[mod] = np.where(datframe[var]==mod, 1, 0)\n",
    "            datframe.drop(columns=var,axis=1,inplace=True)\n",
    "            \n",
    "    return datframe"
   ]
  },
  {
   "cell_type": "code",
   "execution_count": 55,
   "id": "a771402d",
   "metadata": {},
   "outputs": [],
   "source": [
    "def preprocessing(dataframe):\n",
    "    \n",
    "    Y = dataframe['Attrition_Flag'].map({'Existing Customer': 0, 'Attrited Customer': 1})\n",
    "    X = dataframe.drop('Attrition_Flag', axis=1)\n",
    "    \n",
    "    X = encode_features_ordinal(X)\n",
    "    X = encodin_nominale(X)\n",
    "    \n",
    "    return X, Y\n",
    " "
   ]
  },
  {
   "cell_type": "code",
   "execution_count": 56,
   "id": "1b68e5f2",
   "metadata": {},
   "outputs": [],
   "source": [
    "X_train, Y_train = preprocessing(trainset)"
   ]
  },
  {
   "cell_type": "code",
   "execution_count": 59,
   "id": "cc395a9a",
   "metadata": {},
   "outputs": [],
   "source": [
    "X_test, Y_test = preprocessing(testset)"
   ]
  },
  {
   "cell_type": "markdown",
   "id": "c507eb61",
   "metadata": {},
   "source": [
    "# Modelisation & Evaluation"
   ]
  },
  {
   "cell_type": "code",
   "execution_count": 61,
   "id": "e75ed35b",
   "metadata": {},
   "outputs": [],
   "source": [
    "from sklearn.linear_model import LogisticRegression\n",
    "from sklearn.tree import DecisionTreeClassifier\n",
    "from sklearn.ensemble import RandomForestClassifier, AdaBoostClassifier\n",
    "from sklearn.svm import SVC\n",
    "from sklearn.metrics import classification_report, confusion_matrix\n",
    "import matplotlib.pyplot as plt\n",
    "from sklearn.model_selection import learning_curve\n",
    "import sklearn.metrics as metrics"
   ]
  },
  {
   "cell_type": "code",
   "execution_count": 70,
   "id": "f007c322",
   "metadata": {},
   "outputs": [],
   "source": [
    "import warnings\n",
    "warnings.filterwarnings(\"ignore\")"
   ]
  },
  {
   "cell_type": "code",
   "execution_count": 75,
   "id": "c1c1931d",
   "metadata": {},
   "outputs": [],
   "source": [
    "log = LogisticRegression(random_state=0)\n",
    "# model_tree = DecisionTreeClassifier(random_state=0)\n",
    "model_svc = SVC(random_state=0)\n",
    "model_boost = AdaBoostClassifier(random_state=0)\n",
    "modele_rf = RandomForestClassifier(random_state=0)"
   ]
  },
  {
   "cell_type": "code",
   "execution_count": 76,
   "id": "b9f8af8b",
   "metadata": {},
   "outputs": [],
   "source": [
    "dict_of_models = {'RandomForest': modele_rf,\n",
    "                  'AdaBoost' : model_boost,\n",
    "                  'SVM': model_svc,\n",
    "                  'LogisticRegression': log\n",
    "#                   'DecisionTreeClassifier': DecisionTreeClassifier\n",
    "                 }"
   ]
  },
  {
   "cell_type": "code",
   "execution_count": 77,
   "id": "0d2a8798",
   "metadata": {},
   "outputs": [],
   "source": [
    "def evaluation(model):\n",
    "    \n",
    "    model.fit(X_train, Y_train)\n",
    "    ypred = model.predict(X_test)\n",
    "    \n",
    "    print(f\"Entraînement: {model.score(X_train, Y_train)}\\nTest: {model.score(X_test, Y_test)}\")\n",
    "    print(pd.DataFrame(confusion_matrix(Y_test, ypred)))\n",
    "    print(classification_report(Y_test, ypred))\n",
    "    \n",
    "    N, train_score, val_score = learning_curve(model, X_train, Y_train,\n",
    "                                               cv=4, scoring='f1',\n",
    "                                               train_sizes=np.linspace(0.1, 1, 10))\n",
    "    \n",
    "    plt.figure(figsize=(12, 5))\n",
    "    plt.plot(N, train_score.mean(axis=1), label='train score')\n",
    "    plt.plot(N, val_score.mean(axis=1), label='validation score')\n",
    "    plt.title(model, fontsize=24)\n",
    "    plt.legend()"
   ]
  },
  {
   "cell_type": "code",
   "execution_count": 78,
   "id": "afeff9d0",
   "metadata": {
    "scrolled": false
   },
   "outputs": [
    {
     "name": "stdout",
     "output_type": "stream",
     "text": [
      "RandomForest\n",
      "Entraînement: 1.0\n",
      "Test: 0.948051948051948\n",
      "      0    1\n",
      "0  1472   21\n",
      "1    71  207\n",
      "              precision    recall  f1-score   support\n",
      "\n",
      "           0       0.95      0.99      0.97      1493\n",
      "           1       0.91      0.74      0.82       278\n",
      "\n",
      "    accuracy                           0.95      1771\n",
      "   macro avg       0.93      0.87      0.89      1771\n",
      "weighted avg       0.95      0.95      0.95      1771\n",
      "\n",
      "AdaBoost\n",
      "Entraînement: 0.9625235404896422\n",
      "Test: 0.9542631281761716\n",
      "      0    1\n",
      "0  1462   31\n",
      "1    50  228\n",
      "              precision    recall  f1-score   support\n",
      "\n",
      "           0       0.97      0.98      0.97      1493\n",
      "           1       0.88      0.82      0.85       278\n",
      "\n",
      "    accuracy                           0.95      1771\n",
      "   macro avg       0.92      0.90      0.91      1771\n",
      "weighted avg       0.95      0.95      0.95      1771\n",
      "\n",
      "SVM\n",
      "Entraînement: 0.8427495291902072\n",
      "Test: 0.8430265386787126\n",
      "      0  1\n",
      "0  1493  0\n",
      "1   278  0\n",
      "              precision    recall  f1-score   support\n",
      "\n",
      "           0       0.84      1.00      0.91      1493\n",
      "           1       0.00      0.00      0.00       278\n",
      "\n",
      "    accuracy                           0.84      1771\n",
      "   macro avg       0.42      0.50      0.46      1771\n",
      "weighted avg       0.71      0.84      0.77      1771\n",
      "\n",
      "LogisticRegression\n",
      "Entraînement: 0.8854990583804143\n",
      "Test: 0.8825522303783173\n",
      "      0    1\n",
      "0  1453   40\n",
      "1   168  110\n",
      "              precision    recall  f1-score   support\n",
      "\n",
      "           0       0.90      0.97      0.93      1493\n",
      "           1       0.73      0.40      0.51       278\n",
      "\n",
      "    accuracy                           0.88      1771\n",
      "   macro avg       0.81      0.68      0.72      1771\n",
      "weighted avg       0.87      0.88      0.87      1771\n",
      "\n"
     ]
    },
    {
     "data": {
      "image/png": "[encoded data removed]",
      "text/plain": [
       "<Figure size 864x360 with 1 Axes>"
      ]
     },
     "metadata": {
      "needs_background": "light"
     },
     "output_type": "display_data"
    },
    {
     "data": {
      "image/png": "[encoded data removed]",
      "text/plain": [
       "<Figure size 864x360 with 1 Axes>"
      ]
     },
     "metadata": {
      "needs_background": "light"
     },
     "output_type": "display_data"
    },
    {
     "data": {
      "image/png": "[encoded data removed]",
      "text/plain": [
       "<Figure size 864x360 with 1 Axes>"
      ]
     },
     "metadata": {
      "needs_background": "light"
     },
     "output_type": "display_data"
    },
    {
     "data": {
      "image/png": "[encoded data removed]",
      "text/plain": [
       "<Figure size 864x360 with 1 Axes>"
      ]
     },
     "metadata": {
      "needs_background": "light"
     },
     "output_type": "display_data"
    }
   ],
   "source": [
    "for name, model in dict_of_models.items():\n",
    "    print(name)\n",
    "    evaluation(model)"
   ]
  },
  {
   "cell_type": "markdown",
   "id": "4b05b0dc",
   "metadata": {},
   "source": [
    "**Dans cet exemple le meilleur modèle est le Adaboost**\n",
    "\n",
    "Nous pourions envisager de travailler avec:\n",
    "- Le modèle de **`AdaBoost`**\n",
    "- Le modèle de **`RandomForest`**\n",
    "\n",
    "En nous bassant sur `l'accuracy` ***le taux de bien classé***\n",
    "\n",
    "et le `recall` de bien classé pour ***la modalité positive***\n",
    "\n",
    "Le Modèle SVM n'arrive pas à avoir de bonne performance"
   ]
  }
 ],
 "metadata": {
  "kernelspec": {
   "display_name": "Python 3",
   "language": "python",
   "name": "python3"
  },
  "language_info": {
   "codemirror_mode": {
    "name": "ipython",
    "version": 3
   },
   "file_extension": ".py",
   "mimetype": "text/x-python",
   "name": "python",
   "nbconvert_exporter": "python",
   "pygments_lexer": "ipython3",
   "version": "3.8.5"
  }
 },
 "nbformat": 4,
 "nbformat_minor": 5
}
